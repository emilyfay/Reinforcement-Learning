{
 "cells": [
  {
   "cell_type": "markdown",
   "metadata": {},
   "source": [
    "# Learning Blackjack"
   ]
  },
  {
   "cell_type": "markdown",
   "metadata": {},
   "source": [
    "Here is the second part of my experimentation with reinforcement learning, this time focusing on Monte Carlo methods and based on the following article: http://outlace.com/Reinforcement-Learning-Part-2/"
   ]
  },
  {
   "cell_type": "markdown",
   "metadata": {},
   "source": [
    "The problem that I'll work on is training an algorithm to play Blackjack, learning to make better decisions as it goes (as opposed to the brute-force approach of calculating every possible outcome, and using this knowledge to make decisions based on the known cards).\n",
    "\n",
    "Basically, I want to train the computer to choose whether to hit or stay, given the combination of cards that are visible, which I'll refer to as the state. By keeping track of the outcomes for different actions and card combinations, the algorithm can learn what the best action is for a given state.\n",
    "\n",
    "The state will be represented by a tuple, with the player's hand (value of cards, and boolena for useable ace) the dealer's hand (same elements as player's hand), and the status of the state (in progress, win, loss, draw)."
   ]
  },
  {
   "cell_type": "code",
   "execution_count": 28,
   "metadata": {
    "collapsed": true
   },
   "outputs": [],
   "source": [
    "import math\n",
    "import random\n",
    "import numpy as np\n",
    "import matplotlib.pyplot as plt\n",
    "import seaborn\n",
    "%matplotlib inline"
   ]
  },
  {
   "cell_type": "markdown",
   "metadata": {},
   "source": [
    "First, I set up the functions necessary for our Blackjack game."
   ]
  },
  {
   "cell_type": "code",
   "execution_count": 18,
   "metadata": {
    "collapsed": true
   },
   "outputs": [],
   "source": [
    "def rand_card():\n",
    "    #chooses a card at random, value between 1 and 13, setting face cards equal to 10\n",
    "    card = random.randint(1,13)\n",
    "    if card > 10:\n",
    "        card = 10\n",
    "    return(card)\n",
    "\n",
    "def useable_ace(hand):\n",
    "    # determines if the hand contains a useable ace, i.e. if it can also be used as an 11\n",
    "    # reads in a hand, which is a tuple\n",
    "    val, ace = hand\n",
    "    return(ace and ((val+10) <= 21))\n",
    "\n",
    "def handvalue(hand):\n",
    "    # calculates the value of a hand, testing for a useable ace\n",
    "    val, ace = hand\n",
    "    if (useable_ace(hand)):\n",
    "        return(val+10)\n",
    "    else:\n",
    "        return(val)\n",
    "    \n",
    "def add_card(hand, card):\n",
    "    # add a new card and update player's hand\n",
    "    val, ace = hand\n",
    "    if (card == 1):\n",
    "        ace = True\n",
    "    return (val+card, ace)\n",
    "\n",
    "def dealer(dealer_hand):\n",
    "    # add cards to the dealer's hand until 17 is reached\n",
    "    while(handvalue(dealer_hand)<17):\n",
    "        dealer_hand = add_card(dealer_hand, rand_card())\n",
    "    return(dealer_hand)\n",
    "\n",
    "def play(state, dec):\n",
    "    # executes a round of play for a given state and decision from the player\n",
    "    player_hand = state[0]\n",
    "    dealer_hand = state[1]\n",
    "    if dec == 0: #choose to stay\n",
    "        dealer_hand = dealer(dealer_hand)\n",
    "        player_tot = handvalue(player_hand)\n",
    "        dealer_tot = handvalue(dealer_hand)\n",
    "        status = 1 # in progress\n",
    "        if (dealer_tot > 21):\n",
    "            status = 2 # player wins\n",
    "        elif (dealer_tot == player_tot):\n",
    "            status = 3 #draw\n",
    "        elif (dealer_tot < player_tot):\n",
    "            status = 2 # player wins\n",
    "        elif (dealer_tot > player_tot):\n",
    "            status = 4 # player loses\n",
    "        \n",
    "    elif dec == 1: #choose to hit\n",
    "        player_hand = add_card(player_hand, rand_card())\n",
    "        dealer_hand_ = dealer(dealer_hand)\n",
    "        player_tot = handvalue(player_hand)\n",
    "        dealer_tot = handvalue(dealer_hand_)\n",
    "        status = 1 # in progress\n",
    "        if (player_tot == 21):\n",
    "            if(dealer_tot == 21):\n",
    "                status = 3 #draw\n",
    "            else:\n",
    "                status = 2 #player wins\n",
    "        elif (player_tot > 21):\n",
    "            status = 4 # player loses\n",
    "        elif (player_tot < 21):\n",
    "            status = 1 # play continues\n",
    "            \n",
    "    state = (player_hand, dealer_hand, status)\n",
    "    return(state)\n",
    "        \n",
    "def startGame():\n",
    "    # starts a new game with a random initial state\n",
    "    status = 1\n",
    "    player_hand = add_card((0,False), rand_card())\n",
    "    player_hand = add_card(player_hand, rand_card())\n",
    "    dealer_hand = add_card((0,False), rand_card())\n",
    "    if(handvalue(player_hand)==21):\n",
    "        if(handvalue(dealer_hand)!=21):\n",
    "            status = 2 # player wins\n",
    "        else:\n",
    "            status = 3 # draw\n",
    "    state = (player_hand, dealer_hand, status)\n",
    "    return(state)"
   ]
  },
  {
   "cell_type": "markdown",
   "metadata": {},
   "source": [
    "The game is now ready to play! Next, I need to create a player algorithm that learns as it plays. Let's run a test game so we know what our virtual player will need to do."
   ]
  },
  {
   "cell_type": "code",
   "execution_count": 19,
   "metadata": {
    "collapsed": false
   },
   "outputs": [
    {
     "name": "stdout",
     "output_type": "stream",
     "text": [
      "((20, False), (7, False), 1)\n",
      "Type stay or hit:stay\n",
      "((20, False), (8, True), 2)\n"
     ]
    }
   ],
   "source": [
    "state = startGame()\n",
    "print(state)\n",
    "\n",
    "while (state[2]==1):\n",
    "    dec = raw_input('Type stay or hit:')\n",
    "    if (dec == 'stay'):\n",
    "        state = play(state, 0)\n",
    "    elif (dec == 'hit'):\n",
    "        state = play(state, 1)\n",
    "    print(state)\n"
   ]
  },
  {
   "cell_type": "markdown",
   "metadata": {},
   "source": [
    "It's pretty simple, the player just needs to choose to stay or hit, given the state. But how to decide? That's where the reinforcement learning comes in. \n",
    "\n",
    "Below, the functions needed to run the Monte Carlo algorithm are defined: initializing a list with all possible states, creating a lookup table to contain the average outcome for each state, a table to track the number of times each state has been seen, and a function to return the expected value for a stay or hit action, given the state."
   ]
  },
  {
   "cell_type": "code",
   "execution_count": 64,
   "metadata": {
    "collapsed": false
   },
   "outputs": [],
   "source": [
    "def init_state_space():\n",
    "    # initialize a state space with all possible states of player hand, useable ace, dealer card\n",
    "    states = []\n",
    "    for dealer_card in range(1,11):\n",
    "        for hand_val in range(11,22):\n",
    "            states.append((hand_val, True, dealer_card))\n",
    "            states.append((hand_val, False, dealer_card))\n",
    "    return(states)\n",
    "\n",
    "def init_state_actions(states):\n",
    "    # initialize a dictionary as a look-up table for each state and action\n",
    "    av = {}\n",
    "    for state in states:\n",
    "        av[(state, 0)] = 0.0 # average outcome for state, stay\n",
    "        av[(state, 1)] = 0.0 # average outcome for state, hit\n",
    "    return(av)\n",
    "\n",
    "def init_count(state_actions):\n",
    "    # initialize a dictionary to keep track of how many times each state and action pair is chosen\n",
    "    counts = {}\n",
    "    for pair in state_actions:\n",
    "        counts[pair] = 0\n",
    "    return(counts)\n",
    "\n",
    "def calc_reward(outcome):\n",
    "    #converts outcome to reward of -1 (loss), 0 (draw), 1 (win)\n",
    "    return(3.0-outcome)\n",
    "    \n",
    "def update_Qtable(av_table, av_count, returns):\n",
    "    #recalculates the average reward for the table given recent events\n",
    "    for key in returns:\n",
    "        av_table[key] = av_table[key]+(1.0/av_count[key])*(returns[key]-av_table[key])\n",
    "    return(av_table)\n",
    "\n",
    "def Qval(state, av_table):\n",
    "    # return the expected value for a given state for each action \n",
    "    stay = av_table[(state,0)]\n",
    "    hit = av_table[(state,1)]\n",
    "    return(np.array([stay,hit]))\n",
    "\n",
    "def get_mod_state(state):\n",
    "    # returns a modified state for use in our algorithm\n",
    "    player_hand, dealer_hand, status = state\n",
    "    player_val, player_ace = player_hand\n",
    "    return (player_val, player_ace, dealer_hand[0])\n"
   ]
  },
  {
   "cell_type": "markdown",
   "metadata": {
    "collapsed": true
   },
   "source": [
    "Now it's time to run the Monte Carlo algorithm to train the Blackjack model (i.e. to fill in the lookup table with results from many, many games). "
   ]
  },
  {
   "cell_type": "code",
   "execution_count": 70,
   "metadata": {
    "collapsed": false
   },
   "outputs": [
    {
     "name": "stdout",
     "output_type": "stream",
     "text": [
      "Done\n"
     ]
    }
   ],
   "source": [
    "n_games = 5000000\n",
    "eps = 0.1\n",
    "\n",
    "state_space = init_state_space()\n",
    "av_table = init_state_actions(state_space)\n",
    "av_count = init_count(av_table)\n",
    "\n",
    "for game in range(n_games):\n",
    "    # start a new game\n",
    "    state = startGame()\n",
    "    player_hand, dealer_hand, status = state\n",
    "    # add cards to the player's hand until the total is at least 11\n",
    "    while player_hand[0] < 11:\n",
    "        player_hand = add_card(player_hand, rand_card())\n",
    "        state = (player_hand, dealer_hand, status)\n",
    "    mod_state = get_mod_state(state)\n",
    "    \n",
    "    returns = {}\n",
    "    #check to see if game is ongoing\n",
    "    while(state[2]==1):\n",
    "        act_probs = Qval(mod_state, av_table)\n",
    "        # choose best action, with random choice set by eps\n",
    "        if (random.random() < eps):\n",
    "            action = random.randint(0,1) # choose random action\n",
    "        else:\n",
    "            action = np.argmax(act_probs) # choose best action given past outcomes\n",
    "        state_action = ((mod_state, action))\n",
    "        returns[state_action] = 0\n",
    "        av_count[state_action] +=1 # increment counter\n",
    "        state = play(state, action)\n",
    "        mod_state = get_mod_state(state)\n",
    "        \n",
    "    for key in returns:\n",
    "        returns[key] = calc_reward(state[2])\n",
    "    av_table = update_Qtable(av_table, av_count, returns)\n",
    "print(\"Done\")"
   ]
  },
  {
   "cell_type": "code",
   "execution_count": 180,
   "metadata": {
    "collapsed": false
   },
   "outputs": [],
   "source": [
    "X = range(11,22)\n",
    "Y = range(1,11)\n",
    "dif_uAce = np.zeros([len(Y)+1,len(X)+1])\n",
    "dif_nAce = np.zeros([len(Y)+1,len(X)+1])\n",
    "max_uAce = np.zeros([len(Y)+1,len(X)+1])\n",
    "max_nAce = np.zeros([len(Y)+1,len(X)+1])\n",
    "\n",
    "for n,x in enumerate(X):\n",
    "    for m,y in enumerate(Y):\n",
    "        dif_uAce[m,n]=(av_table[((x,True,y), 1)]-av_table[((x,True,y), 0)])\n",
    "        dif_nAce[m,n]=(av_table[((x,False,y), 1)]-av_table[((x,False,y), 0)])\n",
    "        max_uAce[m,n]=max(av_table[((x,True,y), 1)],av_table[((x,True,y), 0)])\n",
    "        max_nAce[m,n]=max(av_table[((x,False,y), 1)],av_table[((x,False,y), 0)])\n",
    "X.append(23)\n",
    "Y.append(12)"
   ]
  },
  {
   "cell_type": "code",
   "execution_count": 218,
   "metadata": {
    "collapsed": false
   },
   "outputs": [
    {
     "data": {
      "image/png": "[encoded data removed]",
      "text/plain": [
       "<matplotlib.figure.Figure at 0x10bb47790>"
      ]
     },
     "metadata": {},
     "output_type": "display_data"
    }
   ],
   "source": [
    "import matplotlib.ticker as ticker\n",
    "x_tick_loc = [x+0.5 for x in X]\n",
    "y_tick_loc = [y+0.5 for y in Y]\n",
    "\n",
    "plt.figure(figsize = (12,10))\n",
    "ax1 = plt.subplot(221)\n",
    "plt.pcolor(X,Y,max_uAce, vmin = -1, vmax = 1, edgecolors = 'k')\n",
    "plt.xlabel('Player hand')\n",
    "plt.ylabel('Dealer card')\n",
    "plt.title('Expected outcome - Useable ace', fontsize = 14)\n",
    "plt.ylim([1,11])\n",
    "plt.xlim([11,22])\n",
    "ax1.xaxis.set_major_formatter(ticker.NullFormatter()) \n",
    "ax1.xaxis.set_minor_locator(ticker.FixedLocator(x_tick_loc))\n",
    "ax1.xaxis.set_minor_formatter(ticker.FixedFormatter(X))\n",
    "ax1.yaxis.set_major_formatter(ticker.NullFormatter()) \n",
    "ax1.yaxis.set_minor_locator(ticker.FixedLocator(y_tick_loc))\n",
    "ax1.yaxis.set_minor_formatter(ticker.FixedFormatter(Y))\n",
    "plt.colorbar()\n",
    "\n",
    "ax2 = plt.subplot(222)\n",
    "plt.pcolor(X,Y,max_nAce, vmin = -1, vmax = 1, edgecolors = 'k')\n",
    "plt.xlabel('Player hand')\n",
    "plt.ylabel('Dealer card')\n",
    "plt.title('Expected outcome - No useable ace', fontsize = 14)\n",
    "plt.ylim([1,11])\n",
    "plt.xlim([11,22])\n",
    "ax2.xaxis.set_major_formatter(ticker.NullFormatter()) \n",
    "ax2.xaxis.set_minor_locator(ticker.FixedLocator(x_tick_loc))\n",
    "ax2.xaxis.set_minor_formatter(ticker.FixedFormatter(X))\n",
    "ax2.yaxis.set_major_formatter(ticker.NullFormatter()) \n",
    "ax2.yaxis.set_minor_locator(ticker.FixedLocator(y_tick_loc))\n",
    "ax2.yaxis.set_minor_formatter(ticker.FixedFormatter(Y))\n",
    "plt.colorbar()\n",
    "\n",
    "ax3 = plt.subplot(223)\n",
    "plt.pcolor(X,Y,dif_uAce, vmin = -1, vmax = 1, edgecolors = 'k')\n",
    "plt.xlabel('Player hand')\n",
    "plt.ylabel('Dealer card')\n",
    "plt.title('Advantage of hit - Useable ace', fontsize = 14)\n",
    "plt.ylim([1,11])\n",
    "plt.xlim([11,22])\n",
    "ax3.xaxis.set_major_formatter(ticker.NullFormatter()) \n",
    "ax3.xaxis.set_minor_locator(ticker.FixedLocator(x_tick_loc))\n",
    "ax3.xaxis.set_minor_formatter(ticker.FixedFormatter(X))\n",
    "ax3.yaxis.set_major_formatter(ticker.NullFormatter()) \n",
    "ax3.yaxis.set_minor_locator(ticker.FixedLocator(y_tick_loc))\n",
    "ax3.yaxis.set_minor_formatter(ticker.FixedFormatter(Y))\n",
    "plt.colorbar()\n",
    "\n",
    "ax4 = plt.subplot(224)\n",
    "plt.pcolor(X,Y,dif_nAce, vmin = -1, vmax = 1, edgecolors = 'k')\n",
    "plt.xlabel('Player hand')\n",
    "plt.ylabel('Dealer card')\n",
    "plt.title('Advantage of hit - No useable ace', fontsize = 14)\n",
    "plt.ylim([1,11])\n",
    "plt.xlim([11,22])\n",
    "ax4.xaxis.set_major_formatter(ticker.NullFormatter()) \n",
    "ax4.xaxis.set_minor_locator(ticker.FixedLocator(x_tick_loc))\n",
    "ax4.xaxis.set_minor_formatter(ticker.FixedFormatter(X))\n",
    "ax4.yaxis.set_major_formatter(ticker.NullFormatter()) \n",
    "ax4.yaxis.set_minor_locator(ticker.FixedLocator(y_tick_loc))\n",
    "ax4.yaxis.set_minor_formatter(ticker.FixedFormatter(Y))\n",
    "plt.colorbar()\n",
    "plt.show()"
   ]
  },
  {
   "cell_type": "markdown",
   "metadata": {},
   "source": [
    "It's a little hard to interpret the plots above. We can also make a simple table that shows whether it's better (according to the above simulation) to hit or stay for each state. These tables illustrate how the algorithm will decide to play future hands, given what it has learned."
   ]
  },
  {
   "cell_type": "code",
   "execution_count": 214,
   "metadata": {
    "collapsed": false
   },
   "outputs": [
    {
     "data": {
      "image/png": "[encoded data removed]",
      "text/plain": [
       "<matplotlib.figure.Figure at 0x12396e890>"
      ]
     },
     "metadata": {},
     "output_type": "display_data"
    }
   ],
   "source": [
    "hit_map_uAce = dif_uAce > 0\n",
    "hit_map_nAce = dif_nAce > 0\n",
    "\n",
    "\n",
    "plt.figure(figsize = [10,5])\n",
    "ax1 = plt.subplot(121)\n",
    "ax1.pcolor(X,Y,hit_map_uAce, edgecolors = 'k', linewidths=1)\n",
    "ax1.xaxis.set_major_formatter(ticker.NullFormatter()) \n",
    "ax1.xaxis.set_minor_locator(ticker.FixedLocator(x_tick_loc))\n",
    "ax1.xaxis.set_minor_formatter(ticker.FixedFormatter(X))\n",
    "ax1.yaxis.set_major_formatter(ticker.NullFormatter()) \n",
    "ax1.yaxis.set_minor_locator(ticker.FixedLocator(y_tick_loc))\n",
    "ax1.yaxis.set_minor_formatter(ticker.FixedFormatter(Y))\n",
    "ax1.set_ylim([1,11])\n",
    "ax1.set_xlim([11,22])\n",
    "ax1.set_title('When you should hit - Useable ace', fontsize = 14)\n",
    "ax1.set_xlabel('Player hand')\n",
    "ax1.set_ylabel('Dealer card')\n",
    "\n",
    "ax2 = plt.subplot(122)\n",
    "ax2.pcolor(X,Y,hit_map_nAce, edgecolors = 'k', linewidths=1)\n",
    "ax2.xaxis.set_major_formatter(ticker.NullFormatter()) \n",
    "ax2.xaxis.set_minor_locator(ticker.FixedLocator(x_tick_loc))\n",
    "ax2.xaxis.set_minor_formatter(ticker.FixedFormatter(X))\n",
    "ax2.yaxis.set_major_formatter(ticker.NullFormatter()) \n",
    "ax2.yaxis.set_minor_locator(ticker.FixedLocator(y_tick_loc))\n",
    "ax2.yaxis.set_minor_formatter(ticker.FixedFormatter(Y))\n",
    "ax2.set_ylim([1,11])\n",
    "ax2.set_xlim([11,22])\n",
    "ax2.set_title('When you should hit - No useable ace', fontsize = 14)\n",
    "ax2.set_xlabel('Player hand')\n",
    "ax2.set_ylabel('Dealer card')\n",
    "\n",
    "plt.tight_layout()\n",
    "\n",
    "\n",
    "plt.show()"
   ]
  },
  {
   "cell_type": "code",
   "execution_count": null,
   "metadata": {
    "collapsed": true
   },
   "outputs": [],
   "source": []
  }
 ],
 "metadata": {
  "anaconda-cloud": {},
  "kernelspec": {
   "display_name": "Python [default]",
   "language": "python",
   "name": "python2"
  },
  "language_info": {
   "codemirror_mode": {
    "name": "ipython",
    "version": 2
   },
   "file_extension": ".py",
   "mimetype": "text/x-python",
   "name": "python",
   "nbconvert_exporter": "python",
   "pygments_lexer": "ipython2",
   "version": "2.7.12"
  }
 },
 "nbformat": 4,
 "nbformat_minor": 0
}
